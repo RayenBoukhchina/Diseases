{
 "cells": [
  {
   "cell_type": "markdown",
   "id": "238907ae",
   "metadata": {},
   "source": [
    "# Prédiction des Maladies Cardiaques\n",
    "Ce notebook propose un pipeline complet pour la détection des maladies cardiaques."
   ]
  },
  {
   "cell_type": "code",
   "execution_count": 2,
   "id": "b34ef9a9",
   "metadata": {},
   "outputs": [],
   "source": [
    "import pandas as pd\n",
    "import numpy as np\n",
    "import matplotlib.pyplot as plt\n",
    "import seaborn as sns\n",
    "import warnings\n",
    "warnings.filterwarnings('ignore')\n",
    "\n",
    "from sklearn.model_selection import train_test_split, StratifiedKFold, RandomizedSearchCV, learning_curve\n",
    "from sklearn.preprocessing import MinMaxScaler\n",
    "from sklearn.feature_selection import RFE\n",
    "from sklearn.metrics import (\n",
    "    accuracy_score, precision_score, recall_score, f1_score, roc_auc_score, classification_report, confusion_matrix, roc_curve\n",
    ")\n",
    "from sklearn.neighbors import KNeighborsClassifier\n",
    "from sklearn.naive_bayes import GaussianNB\n",
    "from sklearn.neural_network import MLPClassifier\n",
    "from sklearn.ensemble import AdaBoostClassifier, VotingClassifier\n",
    "import xgboost as xgb\n",
    "\n",
    "plt.style.use('default')\n",
    "sns.set_palette('Set2')\n"
   ]
  },
  {
   "cell_type": "code",
   "execution_count": 3,
   "id": "59d7e979",
   "metadata": {},
   "outputs": [
    {
     "name": "stdout",
     "output_type": "stream",
     "text": [
      "📊 Dataset chargé : 303 lignes, 14 colonnes\n"
     ]
    },
    {
     "name": "stdout",
     "output_type": "stream",
     "text": [
      "📊 Dataset chargé : 303 lignes, 14 colonnes\n"
     ]
    },
    {
     "data": {
      "application/vnd.microsoft.datawrangler.viewer.v0+json": {
       "columns": [
        {
         "name": "index",
         "rawType": "int64",
         "type": "integer"
        },
        {
         "name": "age",
         "rawType": "int64",
         "type": "integer"
        },
        {
         "name": "sex",
         "rawType": "int64",
         "type": "integer"
        },
        {
         "name": "cp",
         "rawType": "int64",
         "type": "integer"
        },
        {
         "name": "trestbps",
         "rawType": "int64",
         "type": "integer"
        },
        {
         "name": "chol",
         "rawType": "int64",
         "type": "integer"
        },
        {
         "name": "fbs",
         "rawType": "int64",
         "type": "integer"
        },
        {
         "name": "restecg",
         "rawType": "int64",
         "type": "integer"
        },
        {
         "name": "thalach",
         "rawType": "int64",
         "type": "integer"
        },
        {
         "name": "exang",
         "rawType": "int64",
         "type": "integer"
        },
        {
         "name": "oldpeak",
         "rawType": "float64",
         "type": "float"
        },
        {
         "name": "slope",
         "rawType": "int64",
         "type": "integer"
        },
        {
         "name": "ca",
         "rawType": "int64",
         "type": "integer"
        },
        {
         "name": "thal",
         "rawType": "int64",
         "type": "integer"
        },
        {
         "name": "target",
         "rawType": "int64",
         "type": "integer"
        }
       ],
       "ref": "09c66372-4b6a-48c9-87f3-78759c90db7e",
       "rows": [
        [
         "0",
         "63",
         "1",
         "3",
         "145",
         "233",
         "1",
         "0",
         "150",
         "0",
         "2.3",
         "0",
         "0",
         "1",
         "1"
        ],
        [
         "1",
         "37",
         "1",
         "2",
         "130",
         "250",
         "0",
         "1",
         "187",
         "0",
         "3.5",
         "0",
         "0",
         "2",
         "1"
        ],
        [
         "2",
         "41",
         "0",
         "1",
         "130",
         "204",
         "0",
         "0",
         "172",
         "0",
         "1.4",
         "2",
         "0",
         "2",
         "1"
        ],
        [
         "3",
         "56",
         "1",
         "1",
         "120",
         "236",
         "0",
         "1",
         "178",
         "0",
         "0.8",
         "2",
         "0",
         "2",
         "1"
        ],
        [
         "4",
         "57",
         "0",
         "0",
         "120",
         "354",
         "0",
         "1",
         "163",
         "1",
         "0.6",
         "2",
         "0",
         "2",
         "1"
        ]
       ],
       "shape": {
        "columns": 14,
        "rows": 5
       }
      },
      "text/html": [
       "<div>\n",
       "<style scoped>\n",
       "    .dataframe tbody tr th:only-of-type {\n",
       "        vertical-align: middle;\n",
       "    }\n",
       "\n",
       "    .dataframe tbody tr th {\n",
       "        vertical-align: top;\n",
       "    }\n",
       "\n",
       "    .dataframe thead th {\n",
       "        text-align: right;\n",
       "    }\n",
       "</style>\n",
       "<table border=\"1\" class=\"dataframe\">\n",
       "  <thead>\n",
       "    <tr style=\"text-align: right;\">\n",
       "      <th></th>\n",
       "      <th>age</th>\n",
       "      <th>sex</th>\n",
       "      <th>cp</th>\n",
       "      <th>trestbps</th>\n",
       "      <th>chol</th>\n",
       "      <th>fbs</th>\n",
       "      <th>restecg</th>\n",
       "      <th>thalach</th>\n",
       "      <th>exang</th>\n",
       "      <th>oldpeak</th>\n",
       "      <th>slope</th>\n",
       "      <th>ca</th>\n",
       "      <th>thal</th>\n",
       "      <th>target</th>\n",
       "    </tr>\n",
       "  </thead>\n",
       "  <tbody>\n",
       "    <tr>\n",
       "      <th>0</th>\n",
       "      <td>63</td>\n",
       "      <td>1</td>\n",
       "      <td>3</td>\n",
       "      <td>145</td>\n",
       "      <td>233</td>\n",
       "      <td>1</td>\n",
       "      <td>0</td>\n",
       "      <td>150</td>\n",
       "      <td>0</td>\n",
       "      <td>2.3</td>\n",
       "      <td>0</td>\n",
       "      <td>0</td>\n",
       "      <td>1</td>\n",
       "      <td>1</td>\n",
       "    </tr>\n",
       "    <tr>\n",
       "      <th>1</th>\n",
       "      <td>37</td>\n",
       "      <td>1</td>\n",
       "      <td>2</td>\n",
       "      <td>130</td>\n",
       "      <td>250</td>\n",
       "      <td>0</td>\n",
       "      <td>1</td>\n",
       "      <td>187</td>\n",
       "      <td>0</td>\n",
       "      <td>3.5</td>\n",
       "      <td>0</td>\n",
       "      <td>0</td>\n",
       "      <td>2</td>\n",
       "      <td>1</td>\n",
       "    </tr>\n",
       "    <tr>\n",
       "      <th>2</th>\n",
       "      <td>41</td>\n",
       "      <td>0</td>\n",
       "      <td>1</td>\n",
       "      <td>130</td>\n",
       "      <td>204</td>\n",
       "      <td>0</td>\n",
       "      <td>0</td>\n",
       "      <td>172</td>\n",
       "      <td>0</td>\n",
       "      <td>1.4</td>\n",
       "      <td>2</td>\n",
       "      <td>0</td>\n",
       "      <td>2</td>\n",
       "      <td>1</td>\n",
       "    </tr>\n",
       "    <tr>\n",
       "      <th>3</th>\n",
       "      <td>56</td>\n",
       "      <td>1</td>\n",
       "      <td>1</td>\n",
       "      <td>120</td>\n",
       "      <td>236</td>\n",
       "      <td>0</td>\n",
       "      <td>1</td>\n",
       "      <td>178</td>\n",
       "      <td>0</td>\n",
       "      <td>0.8</td>\n",
       "      <td>2</td>\n",
       "      <td>0</td>\n",
       "      <td>2</td>\n",
       "      <td>1</td>\n",
       "    </tr>\n",
       "    <tr>\n",
       "      <th>4</th>\n",
       "      <td>57</td>\n",
       "      <td>0</td>\n",
       "      <td>0</td>\n",
       "      <td>120</td>\n",
       "      <td>354</td>\n",
       "      <td>0</td>\n",
       "      <td>1</td>\n",
       "      <td>163</td>\n",
       "      <td>1</td>\n",
       "      <td>0.6</td>\n",
       "      <td>2</td>\n",
       "      <td>0</td>\n",
       "      <td>2</td>\n",
       "      <td>1</td>\n",
       "    </tr>\n",
       "  </tbody>\n",
       "</table>\n",
       "</div>"
      ],
      "text/plain": [
       "   age  sex  cp  trestbps  chol  fbs  restecg  thalach  exang  oldpeak  slope  \\\n",
       "0   63    1   3       145   233    1        0      150      0      2.3      0   \n",
       "1   37    1   2       130   250    0        1      187      0      3.5      0   \n",
       "2   41    0   1       130   204    0        0      172      0      1.4      2   \n",
       "3   56    1   1       120   236    0        1      178      0      0.8      2   \n",
       "4   57    0   0       120   354    0        1      163      1      0.6      2   \n",
       "\n",
       "   ca  thal  target  \n",
       "0   0     1       1  \n",
       "1   0     2       1  \n",
       "2   0     2       1  \n",
       "3   0     2       1  \n",
       "4   0     2       1  "
      ]
     },
     "execution_count": 3,
     "metadata": {},
     "output_type": "execute_result"
    }
   ],
   "source": [
    "df = pd.read_csv('../Heart/heart.csv')\n",
    "print(f'📊 Dataset chargé : {df.shape[0]} lignes, {df.shape[1]} colonnes')\n",
    "df.head()"
   ]
  },
  {
   "cell_type": "code",
   "execution_count": 4,
   "id": "94d7eac8",
   "metadata": {},
   "outputs": [
    {
     "data": {
      "application/vnd.microsoft.datawrangler.viewer.v0+json": {
       "columns": [
        {
         "name": "index",
         "rawType": "object",
         "type": "string"
        },
        {
         "name": "age",
         "rawType": "float64",
         "type": "float"
        },
        {
         "name": "sex",
         "rawType": "float64",
         "type": "float"
        },
        {
         "name": "cp",
         "rawType": "float64",
         "type": "float"
        },
        {
         "name": "trestbps",
         "rawType": "float64",
         "type": "float"
        },
        {
         "name": "chol",
         "rawType": "float64",
         "type": "float"
        },
        {
         "name": "fbs",
         "rawType": "float64",
         "type": "float"
        },
        {
         "name": "restecg",
         "rawType": "float64",
         "type": "float"
        },
        {
         "name": "thalach",
         "rawType": "float64",
         "type": "float"
        },
        {
         "name": "exang",
         "rawType": "float64",
         "type": "float"
        },
        {
         "name": "oldpeak",
         "rawType": "float64",
         "type": "float"
        },
        {
         "name": "slope",
         "rawType": "float64",
         "type": "float"
        },
        {
         "name": "ca",
         "rawType": "float64",
         "type": "float"
        },
        {
         "name": "thal",
         "rawType": "float64",
         "type": "float"
        },
        {
         "name": "target",
         "rawType": "float64",
         "type": "float"
        }
       ],
       "ref": "2a4a4a29-70f8-4dc5-9d38-8907aa351df8",
       "rows": [
        [
         "count",
         "303.0",
         "303.0",
         "303.0",
         "303.0",
         "303.0",
         "303.0",
         "303.0",
         "303.0",
         "303.0",
         "303.0",
         "303.0",
         "303.0",
         "303.0",
         "303.0"
        ],
        [
         "mean",
         "54.366336633663366",
         "0.6831683168316832",
         "0.966996699669967",
         "131.62376237623764",
         "246.26402640264027",
         "0.1485148514851485",
         "0.528052805280528",
         "149.64686468646866",
         "0.32673267326732675",
         "1.0396039603960396",
         "1.3993399339933994",
         "0.7293729372937293",
         "2.3135313531353137",
         "0.5445544554455446"
        ],
        [
         "std",
         "9.082100989837857",
         "0.46601082333962385",
         "1.0320524894832985",
         "17.5381428135171",
         "51.83075098793003",
         "0.35619787492797644",
         "0.525859596359298",
         "22.905161114914094",
         "0.4697944645223165",
         "1.1610750220686348",
         "0.6162261453459619",
         "1.022606364969327",
         "0.6122765072781409",
         "0.4988347841643913"
        ],
        [
         "min",
         "29.0",
         "0.0",
         "0.0",
         "94.0",
         "126.0",
         "0.0",
         "0.0",
         "71.0",
         "0.0",
         "0.0",
         "0.0",
         "0.0",
         "0.0",
         "0.0"
        ],
        [
         "25%",
         "47.5",
         "0.0",
         "0.0",
         "120.0",
         "211.0",
         "0.0",
         "0.0",
         "133.5",
         "0.0",
         "0.0",
         "1.0",
         "0.0",
         "2.0",
         "0.0"
        ],
        [
         "50%",
         "55.0",
         "1.0",
         "1.0",
         "130.0",
         "240.0",
         "0.0",
         "1.0",
         "153.0",
         "0.0",
         "0.8",
         "1.0",
         "0.0",
         "2.0",
         "1.0"
        ],
        [
         "75%",
         "61.0",
         "1.0",
         "2.0",
         "140.0",
         "274.5",
         "0.0",
         "1.0",
         "166.0",
         "1.0",
         "1.6",
         "2.0",
         "1.0",
         "3.0",
         "1.0"
        ],
        [
         "max",
         "77.0",
         "1.0",
         "3.0",
         "200.0",
         "564.0",
         "1.0",
         "2.0",
         "202.0",
         "1.0",
         "6.2",
         "2.0",
         "4.0",
         "3.0",
         "1.0"
        ]
       ],
       "shape": {
        "columns": 14,
        "rows": 8
       }
      },
      "text/html": [
       "<div>\n",
       "<style scoped>\n",
       "    .dataframe tbody tr th:only-of-type {\n",
       "        vertical-align: middle;\n",
       "    }\n",
       "\n",
       "    .dataframe tbody tr th {\n",
       "        vertical-align: top;\n",
       "    }\n",
       "\n",
       "    .dataframe thead th {\n",
       "        text-align: right;\n",
       "    }\n",
       "</style>\n",
       "<table border=\"1\" class=\"dataframe\">\n",
       "  <thead>\n",
       "    <tr style=\"text-align: right;\">\n",
       "      <th></th>\n",
       "      <th>age</th>\n",
       "      <th>sex</th>\n",
       "      <th>cp</th>\n",
       "      <th>trestbps</th>\n",
       "      <th>chol</th>\n",
       "      <th>fbs</th>\n",
       "      <th>restecg</th>\n",
       "      <th>thalach</th>\n",
       "      <th>exang</th>\n",
       "      <th>oldpeak</th>\n",
       "      <th>slope</th>\n",
       "      <th>ca</th>\n",
       "      <th>thal</th>\n",
       "      <th>target</th>\n",
       "    </tr>\n",
       "  </thead>\n",
       "  <tbody>\n",
       "    <tr>\n",
       "      <th>count</th>\n",
       "      <td>303.000000</td>\n",
       "      <td>303.000000</td>\n",
       "      <td>303.000000</td>\n",
       "      <td>303.000000</td>\n",
       "      <td>303.000000</td>\n",
       "      <td>303.000000</td>\n",
       "      <td>303.000000</td>\n",
       "      <td>303.000000</td>\n",
       "      <td>303.000000</td>\n",
       "      <td>303.000000</td>\n",
       "      <td>303.000000</td>\n",
       "      <td>303.000000</td>\n",
       "      <td>303.000000</td>\n",
       "      <td>303.000000</td>\n",
       "    </tr>\n",
       "    <tr>\n",
       "      <th>mean</th>\n",
       "      <td>54.366337</td>\n",
       "      <td>0.683168</td>\n",
       "      <td>0.966997</td>\n",
       "      <td>131.623762</td>\n",
       "      <td>246.264026</td>\n",
       "      <td>0.148515</td>\n",
       "      <td>0.528053</td>\n",
       "      <td>149.646865</td>\n",
       "      <td>0.326733</td>\n",
       "      <td>1.039604</td>\n",
       "      <td>1.399340</td>\n",
       "      <td>0.729373</td>\n",
       "      <td>2.313531</td>\n",
       "      <td>0.544554</td>\n",
       "    </tr>\n",
       "    <tr>\n",
       "      <th>std</th>\n",
       "      <td>9.082101</td>\n",
       "      <td>0.466011</td>\n",
       "      <td>1.032052</td>\n",
       "      <td>17.538143</td>\n",
       "      <td>51.830751</td>\n",
       "      <td>0.356198</td>\n",
       "      <td>0.525860</td>\n",
       "      <td>22.905161</td>\n",
       "      <td>0.469794</td>\n",
       "      <td>1.161075</td>\n",
       "      <td>0.616226</td>\n",
       "      <td>1.022606</td>\n",
       "      <td>0.612277</td>\n",
       "      <td>0.498835</td>\n",
       "    </tr>\n",
       "    <tr>\n",
       "      <th>min</th>\n",
       "      <td>29.000000</td>\n",
       "      <td>0.000000</td>\n",
       "      <td>0.000000</td>\n",
       "      <td>94.000000</td>\n",
       "      <td>126.000000</td>\n",
       "      <td>0.000000</td>\n",
       "      <td>0.000000</td>\n",
       "      <td>71.000000</td>\n",
       "      <td>0.000000</td>\n",
       "      <td>0.000000</td>\n",
       "      <td>0.000000</td>\n",
       "      <td>0.000000</td>\n",
       "      <td>0.000000</td>\n",
       "      <td>0.000000</td>\n",
       "    </tr>\n",
       "    <tr>\n",
       "      <th>25%</th>\n",
       "      <td>47.500000</td>\n",
       "      <td>0.000000</td>\n",
       "      <td>0.000000</td>\n",
       "      <td>120.000000</td>\n",
       "      <td>211.000000</td>\n",
       "      <td>0.000000</td>\n",
       "      <td>0.000000</td>\n",
       "      <td>133.500000</td>\n",
       "      <td>0.000000</td>\n",
       "      <td>0.000000</td>\n",
       "      <td>1.000000</td>\n",
       "      <td>0.000000</td>\n",
       "      <td>2.000000</td>\n",
       "      <td>0.000000</td>\n",
       "    </tr>\n",
       "    <tr>\n",
       "      <th>50%</th>\n",
       "      <td>55.000000</td>\n",
       "      <td>1.000000</td>\n",
       "      <td>1.000000</td>\n",
       "      <td>130.000000</td>\n",
       "      <td>240.000000</td>\n",
       "      <td>0.000000</td>\n",
       "      <td>1.000000</td>\n",
       "      <td>153.000000</td>\n",
       "      <td>0.000000</td>\n",
       "      <td>0.800000</td>\n",
       "      <td>1.000000</td>\n",
       "      <td>0.000000</td>\n",
       "      <td>2.000000</td>\n",
       "      <td>1.000000</td>\n",
       "    </tr>\n",
       "    <tr>\n",
       "      <th>75%</th>\n",
       "      <td>61.000000</td>\n",
       "      <td>1.000000</td>\n",
       "      <td>2.000000</td>\n",
       "      <td>140.000000</td>\n",
       "      <td>274.500000</td>\n",
       "      <td>0.000000</td>\n",
       "      <td>1.000000</td>\n",
       "      <td>166.000000</td>\n",
       "      <td>1.000000</td>\n",
       "      <td>1.600000</td>\n",
       "      <td>2.000000</td>\n",
       "      <td>1.000000</td>\n",
       "      <td>3.000000</td>\n",
       "      <td>1.000000</td>\n",
       "    </tr>\n",
       "    <tr>\n",
       "      <th>max</th>\n",
       "      <td>77.000000</td>\n",
       "      <td>1.000000</td>\n",
       "      <td>3.000000</td>\n",
       "      <td>200.000000</td>\n",
       "      <td>564.000000</td>\n",
       "      <td>1.000000</td>\n",
       "      <td>2.000000</td>\n",
       "      <td>202.000000</td>\n",
       "      <td>1.000000</td>\n",
       "      <td>6.200000</td>\n",
       "      <td>2.000000</td>\n",
       "      <td>4.000000</td>\n",
       "      <td>3.000000</td>\n",
       "      <td>1.000000</td>\n",
       "    </tr>\n",
       "  </tbody>\n",
       "</table>\n",
       "</div>"
      ],
      "text/plain": [
       "              age         sex          cp    trestbps        chol         fbs  \\\n",
       "count  303.000000  303.000000  303.000000  303.000000  303.000000  303.000000   \n",
       "mean    54.366337    0.683168    0.966997  131.623762  246.264026    0.148515   \n",
       "std      9.082101    0.466011    1.032052   17.538143   51.830751    0.356198   \n",
       "min     29.000000    0.000000    0.000000   94.000000  126.000000    0.000000   \n",
       "25%     47.500000    0.000000    0.000000  120.000000  211.000000    0.000000   \n",
       "50%     55.000000    1.000000    1.000000  130.000000  240.000000    0.000000   \n",
       "75%     61.000000    1.000000    2.000000  140.000000  274.500000    0.000000   \n",
       "max     77.000000    1.000000    3.000000  200.000000  564.000000    1.000000   \n",
       "\n",
       "          restecg     thalach       exang     oldpeak       slope          ca  \\\n",
       "count  303.000000  303.000000  303.000000  303.000000  303.000000  303.000000   \n",
       "mean     0.528053  149.646865    0.326733    1.039604    1.399340    0.729373   \n",
       "std      0.525860   22.905161    0.469794    1.161075    0.616226    1.022606   \n",
       "min      0.000000   71.000000    0.000000    0.000000    0.000000    0.000000   \n",
       "25%      0.000000  133.500000    0.000000    0.000000    1.000000    0.000000   \n",
       "50%      1.000000  153.000000    0.000000    0.800000    1.000000    0.000000   \n",
       "75%      1.000000  166.000000    1.000000    1.600000    2.000000    1.000000   \n",
       "max      2.000000  202.000000    1.000000    6.200000    2.000000    4.000000   \n",
       "\n",
       "             thal      target  \n",
       "count  303.000000  303.000000  \n",
       "mean     2.313531    0.544554  \n",
       "std      0.612277    0.498835  \n",
       "min      0.000000    0.000000  \n",
       "25%      2.000000    0.000000  \n",
       "50%      2.000000    1.000000  \n",
       "75%      3.000000    1.000000  \n",
       "max      3.000000    1.000000  "
      ]
     },
     "execution_count": 4,
     "metadata": {},
     "output_type": "execute_result"
    }
   ],
   "source": [
    "df.describe()"
   ]
  },
  {
   "cell_type": "code",
   "execution_count": 5,
   "id": "fed473ec",
   "metadata": {},
   "outputs": [
    {
     "data": {
      "image/png": "[encoded data removed]",
      "text/plain": [
       "<Figure size 600x300 with 1 Axes>"
      ]
     },
     "metadata": {},
     "output_type": "display_data"
    },
    {
     "name": "stdout",
     "output_type": "stream",
     "text": [
      "target\n",
      "1    0.544554\n",
      "0    0.455446\n",
      "Name: proportion, dtype: float64\n"
     ]
    }
   ],
   "source": [
    "plt.figure(figsize=(6,3))\n",
    "sns.countplot(x='target', data=df)\n",
    "plt.title('Distribution de la variable cible (maladie cardiaque)')\n",
    "plt.xlabel('Présence de maladie cardiaque (1=Oui, 0=Non)')\n",
    "plt.ylabel('Nombre de cas')\n",
    "plt.show()\n",
    "\n",
    "print(df['target'].value_counts(normalize=True).rename('proportion'))"
   ]
  },
  {
   "cell_type": "code",
   "execution_count": 7,
   "id": "2b0aff4c",
   "metadata": {},
   "outputs": [
    {
     "name": "stdout",
     "output_type": "stream",
     "text": [
      "Train: (242, 13), Test: (61, 13)\n"
     ]
    }
   ],
   "source": [
    "\n",
    "X = df.drop('target', axis=1)\n",
    "y = df['target']\n",
    "\n",
    "X_train, X_test, y_train, y_test = train_test_split(X, y, test_size=0.2, stratify=y, random_state=42)\n",
    "print(f'Train: {X_train.shape}, Test: {X_test.shape}')"
   ]
  },
  {
   "cell_type": "code",
   "execution_count": 8,
   "id": "2c3a06d2",
   "metadata": {},
   "outputs": [],
   "source": [
    "scaler = MinMaxScaler()\n",
    "X_train_scaled = scaler.fit_transform(X_train)\n",
    "X_test_scaled = scaler.transform(X_test)"
   ]
  },
  {
   "cell_type": "code",
   "execution_count": 9,
   "id": "30e2acb7",
   "metadata": {},
   "outputs": [
    {
     "name": "stdout",
     "output_type": "stream",
     "text": [
      "Features sélectionnées : ['age', 'sex', 'cp', 'exang', 'oldpeak', 'slope', 'ca', 'thal']\n"
     ]
    }
   ],
   "source": [
    "xgb_estimator = xgb.XGBClassifier(use_label_encoder=False, eval_metric='logloss', random_state=42)\n",
    "rfe = RFE(xgb_estimator, n_features_to_select=8)\n",
    "rfe.fit(X_train_scaled, y_train)\n",
    "\n",
    "selected_features = X.columns[rfe.support_]\n",
    "print('Features sélectionnées :', list(selected_features))\n",
    "\n",
    "X_train_sel = X_train_scaled[:, rfe.support_]\n",
    "X_test_sel = X_test_scaled[:, rfe.support_]"
   ]
  },
  {
   "cell_type": "code",
   "execution_count": 10,
   "id": "c2788811",
   "metadata": {},
   "outputs": [],
   "source": [
    "\n",
    "models = {\n",
    "    'XGBoost': xgb.XGBClassifier(use_label_encoder=False, eval_metric='logloss', random_state=42),\n",
    "    'MLP': MLPClassifier(hidden_layer_sizes=(32,16), max_iter=1000, random_state=42),\n",
    "    'Naive Bayes': GaussianNB(),\n",
    "    'KNN': KNeighborsClassifier(n_neighbors=7),\n",
    "    'AdaBoost': AdaBoostClassifier(n_estimators=100, random_state=42)\n",
    "}\n"
   ]
  },
  {
   "cell_type": "code",
   "execution_count": 11,
   "id": "88baeb8c",
   "metadata": {},
   "outputs": [
    {
     "name": "stdout",
     "output_type": "stream",
     "text": [
      "📊 XGBoost...\n",
      "   CV AUC: 0.871 (±0.054) | Test AUC: 0.926\n",
      "📊 MLP...\n",
      "   CV AUC: 0.871 (±0.054) | Test AUC: 0.926\n",
      "📊 MLP...\n",
      "   CV AUC: 0.887 (±0.063) | Test AUC: 0.908\n",
      "📊 Naive Bayes...\n",
      "   CV AUC: 0.882 (±0.073) | Test AUC: 0.890\n",
      "📊 KNN...\n",
      "   CV AUC: 0.859 (±0.086) | Test AUC: 0.866\n",
      "📊 AdaBoost...\n",
      "   CV AUC: 0.887 (±0.063) | Test AUC: 0.908\n",
      "📊 Naive Bayes...\n",
      "   CV AUC: 0.882 (±0.073) | Test AUC: 0.890\n",
      "📊 KNN...\n",
      "   CV AUC: 0.859 (±0.086) | Test AUC: 0.866\n",
      "📊 AdaBoost...\n",
      "   CV AUC: 0.877 (±0.037) | Test AUC: 0.937\n",
      "   CV AUC: 0.877 (±0.037) | Test AUC: 0.937\n"
     ]
    }
   ],
   "source": [
    "\n",
    "from sklearn.model_selection import cross_val_score\n",
    "cv = StratifiedKFold(n_splits=5, shuffle=True, random_state=42)\n",
    "results = {}\n",
    "\n",
    "for name, model in models.items():\n",
    "    print(f'📊 {name}...')\n",
    "    scores = cross_val_score(model, X_train_sel, y_train, cv=cv, scoring='roc_auc')\n",
    "    model.fit(X_train_sel, y_train)\n",
    "    y_pred = model.predict(X_test_sel)\n",
    "    y_proba = model.predict_proba(X_test_sel)[:,1] if hasattr(model, 'predict_proba') else None\n",
    "    auc = roc_auc_score(y_test, y_proba) if y_proba is not None else None\n",
    "    results[name] = {\n",
    "        'model': model,\n",
    "        'cv_auc_mean': scores.mean(),\n",
    "        'cv_auc_std': scores.std(),\n",
    "        'test_auc': auc,\n",
    "        'accuracy': accuracy_score(y_test, y_pred),\n",
    "        'precision': precision_score(y_test, y_pred),\n",
    "        'recall': recall_score(y_test, y_pred),\n",
    "        'f1': f1_score(y_test, y_pred)\n",
    "    }\n",
    "    print(f'   CV AUC: {scores.mean():.3f} (±{scores.std():.3f}) | Test AUC: {auc:.3f}')"
   ]
  },
  {
   "cell_type": "code",
   "execution_count": 12,
   "id": "e6585807",
   "metadata": {},
   "outputs": [
    {
     "name": "stdout",
     "output_type": "stream",
     "text": [
      "📊 Voting Classifier | Test AUC: 0.926\n"
     ]
    }
   ],
   "source": [
    "voting = VotingClassifier(\n",
    "    estimators=[\n",
    "        ('xgb', models['XGBoost']),\n",
    "        ('mlp', models['MLP']),\n",
    "        ('knn', models['KNN'])\n",
    "    ],\n",
    "    voting='soft'\n",
    ")\n",
    "voting.fit(X_train_sel, y_train)\n",
    "y_pred_voting = voting.predict(X_test_sel)\n",
    "y_proba_voting = voting.predict_proba(X_test_sel)[:,1]\n",
    "voting_auc = roc_auc_score(y_test, y_proba_voting)\n",
    "\n",
    "results['Voting'] = {\n",
    "    'model': voting,\n",
    "    'cv_auc_mean': np.nan,\n",
    "    'cv_auc_std': np.nan,\n",
    "    'test_auc': voting_auc,\n",
    "    'accuracy': accuracy_score(y_test, y_pred_voting),\n",
    "    'precision': precision_score(y_test, y_pred_voting),\n",
    "    'recall': recall_score(y_test, y_pred_voting),\n",
    "    'f1': f1_score(y_test, y_pred_voting)\n",
    "}\n",
    "print(f'📊 Voting Classifier | Test AUC: {voting_auc:.3f}')"
   ]
  },
  {
   "cell_type": "code",
   "execution_count": 13,
   "id": "2c92bf24",
   "metadata": {},
   "outputs": [
    {
     "name": "stdout",
     "output_type": "stream",
     "text": [
      "        Modèle  AUC-ROC  Accuracy  Precision  Recall     F1  CV AUC (mean)  \\\n",
      "4     AdaBoost    0.937     0.869      0.821   0.970  0.889          0.877   \n",
      "0      XGBoost    0.926     0.852      0.786   1.000  0.880          0.871   \n",
      "5       Voting    0.926     0.869      0.805   1.000  0.892            NaN   \n",
      "1          MLP    0.908     0.836      0.780   0.970  0.865          0.887   \n",
      "2  Naive Bayes    0.890     0.836      0.780   0.970  0.865          0.882   \n",
      "3          KNN    0.866     0.803      0.839   0.788  0.812          0.859   \n",
      "\n",
      "   CV AUC (std)  \n",
      "4         0.037  \n",
      "0         0.054  \n",
      "5           NaN  \n",
      "1         0.063  \n",
      "2         0.073  \n",
      "3         0.086  \n"
     ]
    }
   ],
   "source": [
    "# Résumé des performances\n",
    "\n",
    "results_df = pd.DataFrame([{\n",
    "    'Modèle': k,\n",
    "    'AUC-ROC': v['test_auc'],\n",
    "    'Accuracy': v['accuracy'],\n",
    "    'Precision': v['precision'],\n",
    "    'Recall': v['recall'],\n",
    "    'F1': v['f1'],\n",
    "    'CV AUC (mean)': v['cv_auc_mean'],\n",
    "    'CV AUC (std)': v['cv_auc_std']\n",
    "} for k,v in results.items()])\n",
    "\n",
    "results_df = results_df.sort_values('AUC-ROC', ascending=False)\n",
    "print(results_df.round(3))"
   ]
  },
  {
   "cell_type": "code",
   "execution_count": 14,
   "id": "4bd5cdc0",
   "metadata": {},
   "outputs": [
    {
     "data": {
      "image/png": "[encoded data removed]",
      "text/plain": [
       "<Figure size 800x600 with 1 Axes>"
      ]
     },
     "metadata": {},
     "output_type": "display_data"
    }
   ],
   "source": [
    "\n",
    "plt.figure(figsize=(8,6))\n",
    "for name, res in results.items():\n",
    "    model = res['model']\n",
    "    if hasattr(model, 'predict_proba'):\n",
    "        y_proba = model.predict_proba(X_test_sel)[:,1]\n",
    "        fpr, tpr, _ = roc_curve(y_test, y_proba)\n",
    "        plt.plot(fpr, tpr, label=f'{name} (AUC={res[\"test_auc\"]:.3f})')\n",
    "plt.plot([0,1],[0,1],'k--',alpha=0.5)\n",
    "plt.xlabel('Taux de faux positifs')\n",
    "plt.ylabel('Taux de vrais positifs')\n",
    "plt.title('Courbes ROC des modèles')\n",
    "plt.legend()\n",
    "plt.show()"
   ]
  },
  {
   "cell_type": "code",
   "execution_count": 16,
   "id": "607dd5ee",
   "metadata": {},
   "outputs": [
    {
     "data": {
      "image/png": "[encoded data removed]",
      "text/plain": [
       "<Figure size 700x500 with 1 Axes>"
      ]
     },
     "metadata": {},
     "output_type": "display_data"
    }
   ],
   "source": [
    "\n",
    "best_name = results_df.iloc[0]['Modèle']\n",
    "best_model = results[best_name]['model']\n",
    "train_sizes, train_scores, test_scores = learning_curve(best_model, X_train_sel, y_train, cv=5, scoring='roc_auc', n_jobs=-1, train_sizes=np.linspace(0.1,1.0,5))\n",
    "train_mean = train_scores.mean(axis=1)\n",
    "test_mean = test_scores.mean(axis=1)\n",
    "plt.figure(figsize=(7,5))\n",
    "plt.plot(train_sizes, train_mean, 'o-', label='Train AUC')\n",
    "plt.plot(train_sizes, test_mean, 'o-', label='Test AUC')\n",
    "plt.xlabel(\"Taille de l'échantillon d'entraînement\")\n",
    "plt.ylabel('AUC-ROC')\n",
    "plt.title(f'Courbe d\\'apprentissage - {best_name}')\n",
    "plt.legend()\n",
    "plt.show()"
   ]
  },
  {
   "cell_type": "code",
   "execution_count": 18,
   "id": "3dedfe29",
   "metadata": {},
   "outputs": [],
   "source": [
    "\n",
    "if best_name == 'XGBoost':\n",
    "    param_dist = {\n",
    "        'n_estimators': [50, 100, 200],\n",
    "        'max_depth': [2, 3, 4, 5],\n",
    "        'learning_rate': [0.01, 0.05, 0.1, 0.2],\n",
    "        'subsample': [0.7, 0.8, 1.0]\n",
    "    }\n",
    "    search = RandomizedSearchCV(best_model, param_distributions=param_dist, n_iter=10, cv=3, scoring='roc_auc', random_state=42, n_jobs=-1)\n",
    "    search.fit(X_train_sel, y_train)\n",
    "    print('Meilleurs hyperparamètres:', search.best_params_)\n",
    "    print('Meilleur score AUC:', search.best_score_)"
   ]
  },
  {
   "cell_type": "code",
   "execution_count": 19,
   "id": "d25c7654",
   "metadata": {},
   "outputs": [
    {
     "name": "stdout",
     "output_type": "stream",
     "text": [
      "              precision    recall  f1-score   support\n",
      "\n",
      "           0       0.95      0.75      0.84        28\n",
      "           1       0.82      0.97      0.89        33\n",
      "\n",
      "    accuracy                           0.87        61\n",
      "   macro avg       0.89      0.86      0.86        61\n",
      "weighted avg       0.88      0.87      0.87        61\n",
      "\n"
     ]
    },
    {
     "data": {
      "image/png": "[encoded data removed]",
      "text/plain": [
       "<Figure size 640x480 with 2 Axes>"
      ]
     },
     "metadata": {},
     "output_type": "display_data"
    }
   ],
   "source": [
    "y_pred_best = best_model.predict(X_test_sel)\n",
    "print(classification_report(y_test, y_pred_best))\n",
    "cm = confusion_matrix(y_test, y_pred_best)\n",
    "sns.heatmap(cm, annot=True, fmt='d', cmap='Blues')\n",
    "plt.title(f'Matrice de confusion - {best_name}')\n",
    "plt.xlabel('Prédit')\n",
    "plt.ylabel('Réel')\n",
    "plt.show()"
   ]
  },
  {
   "cell_type": "code",
   "execution_count": 20,
   "id": "ff8eeaf3",
   "metadata": {},
   "outputs": [
    {
     "name": "stdout",
     "output_type": "stream",
     "text": [
      "Modèle, scaler et features sauvegardés !\n"
     ]
    }
   ],
   "source": [
    "import joblib\n",
    "import os\n",
    "os.makedirs('models', exist_ok=True)\n",
    "joblib.dump(best_model, 'models/best_heart_model.pkl')\n",
    "joblib.dump(scaler, 'models/heart_scaler.pkl')\n",
    "joblib.dump(list(selected_features), 'models/heart_features.pkl')\n",
    "print('Modèle, scaler et features sauvegardés !')"
   ]
  },
  {
   "cell_type": "code",
   "execution_count": 26,
   "id": "d4c98838",
   "metadata": {},
   "outputs": [],
   "source": [
    "import pandas as pd\n",
    "import numpy as np\n",
    "import joblib\n",
    "\n",
    "def predict_heart_disease(patient_data, model_path='models/best_heart_model.pkl', scaler_path='models/heart_scaler.pkl', features_path='models/heart_features.pkl'):\n",
    "    model = joblib.load(model_path)\n",
    "    scaler = joblib.load(scaler_path)\n",
    "    features = joblib.load(features_path)\n",
    "\n",
    "    all_columns = [\n",
    "        'age', 'sex', 'cp', 'trestbps', 'chol', 'fbs', 'restecg',\n",
    "        'thalach', 'exang', 'oldpeak', 'slope', 'ca', 'thal'\n",
    "    ]\n",
    "\n",
    "    if isinstance(patient_data, dict):\n",
    "        X_new = pd.DataFrame([patient_data])\n",
    "    else:\n",
    "        X_new = patient_data.copy()\n",
    "\n",
    "    for col in all_columns:\n",
    "        if col not in X_new.columns:\n",
    "            X_new[col] = 0\n",
    "    X_new = X_new[all_columns]\n",
    "\n",
    "    X_new_scaled = scaler.transform(X_new)\n",
    "\n",
    "    features_idx = [all_columns.index(f) for f in features]\n",
    "    X_new_sel = X_new_scaled[:, features_idx]\n",
    "\n",
    "    proba = model.predict_proba(X_new_sel)[0,1]\n",
    "    pred = model.predict(X_new_sel)[0]\n",
    "    risk_level = 'Élevé' if proba > 0.7 else 'Modéré' if proba > 0.3 else 'Faible'\n",
    "    return {\n",
    "        'prediction': int(pred),\n",
    "        'probabilité_maladie': float(proba),\n",
    "        'niveau_risque': risk_level\n",
    "    }\n"
   ]
  }
 ],
 "metadata": {
  "kernelspec": {
   "display_name": "Python 3",
   "language": "python",
   "name": "python3"
  },
  "language_info": {
   "codemirror_mode": {
    "name": "ipython",
    "version": 3
   },
   "file_extension": ".py",
   "mimetype": "text/x-python",
   "name": "python",
   "nbconvert_exporter": "python",
   "pygments_lexer": "ipython3",
   "version": "3.9.6"
  }
 },
 "nbformat": 4,
 "nbformat_minor": 5
}
